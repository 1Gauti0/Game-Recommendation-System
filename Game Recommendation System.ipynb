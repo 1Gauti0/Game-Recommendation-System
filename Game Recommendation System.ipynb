{
 "cells": [
  {
   "cell_type": "markdown",
   "metadata": {},
   "source": [
    "# Game Recommendation System"
   ]
  },
  {
   "cell_type": "code",
   "execution_count": 1,
   "metadata": {},
   "outputs": [],
   "source": [
    "from sklearn.metrics.pairwise import cosine_similarity\n",
    "import numpy as np\n",
    "import pandas as pd\n",
    "import matplotlib as plt\n",
    "from sklearn.feature_extraction.text import TfidfVectorizer"
   ]
  },
  {
   "cell_type": "code",
   "execution_count": 2,
   "metadata": {},
   "outputs": [],
   "source": [
    "def combine_features(row):\n",
    "    return row[\"publisher\"]+\" \"+row[\"categories\"]+\" \"+row[\"genres\"]\n"
   ]
  },
  {
   "cell_type": "code",
   "execution_count": 3,
   "metadata": {},
   "outputs": [],
   "source": [
    "df = pd.read_csv(\"steam_games.csv\", encoding = \"ISO-8859-1\")"
   ]
  },
  {
   "cell_type": "code",
   "execution_count": 4,
   "metadata": {},
   "outputs": [
    {
     "data": {
      "text/plain": [
       "Index(['index', 'name', 'publisher', 'categories', 'genres', 'steamspy_tags'], dtype='object')"
      ]
     },
     "execution_count": 4,
     "metadata": {},
     "output_type": "execute_result"
    }
   ],
   "source": [
    "df.columns"
   ]
  },
  {
   "cell_type": "code",
   "execution_count": 5,
   "metadata": {},
   "outputs": [],
   "source": [
    "features = ['genres','steamspy_tags','categories','publisher']\n",
    "for feature in features:\n",
    "    df[feature] = df[feature].fillna('')"
   ]
  },
  {
   "cell_type": "code",
   "execution_count": 6,
   "metadata": {},
   "outputs": [
    {
     "data": {
      "text/html": [
       "<div>\n",
       "<style scoped>\n",
       "    .dataframe tbody tr th:only-of-type {\n",
       "        vertical-align: middle;\n",
       "    }\n",
       "\n",
       "    .dataframe tbody tr th {\n",
       "        vertical-align: top;\n",
       "    }\n",
       "\n",
       "    .dataframe thead th {\n",
       "        text-align: right;\n",
       "    }\n",
       "</style>\n",
       "<table border=\"1\" class=\"dataframe\">\n",
       "  <thead>\n",
       "    <tr style=\"text-align: right;\">\n",
       "      <th></th>\n",
       "      <th>index</th>\n",
       "      <th>name</th>\n",
       "      <th>publisher</th>\n",
       "      <th>categories</th>\n",
       "      <th>genres</th>\n",
       "      <th>steamspy_tags</th>\n",
       "    </tr>\n",
       "  </thead>\n",
       "  <tbody>\n",
       "    <tr>\n",
       "      <th>0</th>\n",
       "      <td>1</td>\n",
       "      <td>Counter-Strike</td>\n",
       "      <td>Valve</td>\n",
       "      <td>Multi-player</td>\n",
       "      <td>Action</td>\n",
       "      <td>Action FPS Multiplayer</td>\n",
       "    </tr>\n",
       "    <tr>\n",
       "      <th>1</th>\n",
       "      <td>2</td>\n",
       "      <td>Team Fortress Classic</td>\n",
       "      <td>Valve</td>\n",
       "      <td>Multi-player</td>\n",
       "      <td>Action</td>\n",
       "      <td>Action FPS Multiplayer</td>\n",
       "    </tr>\n",
       "    <tr>\n",
       "      <th>2</th>\n",
       "      <td>3</td>\n",
       "      <td>Day of Defeat</td>\n",
       "      <td>Valve</td>\n",
       "      <td>Multi-player</td>\n",
       "      <td>Action</td>\n",
       "      <td>FPS World War II Multiplayer</td>\n",
       "    </tr>\n",
       "    <tr>\n",
       "      <th>3</th>\n",
       "      <td>4</td>\n",
       "      <td>Deathmatch Classic</td>\n",
       "      <td>Valve</td>\n",
       "      <td>Multi-player</td>\n",
       "      <td>Action</td>\n",
       "      <td>Action FPS Multiplayer</td>\n",
       "    </tr>\n",
       "    <tr>\n",
       "      <th>4</th>\n",
       "      <td>5</td>\n",
       "      <td>Half-Life: Opposing Force</td>\n",
       "      <td>Valve</td>\n",
       "      <td>Single-player Multi-player</td>\n",
       "      <td>Action</td>\n",
       "      <td>FPS Action Sci-fi</td>\n",
       "    </tr>\n",
       "  </tbody>\n",
       "</table>\n",
       "</div>"
      ],
      "text/plain": [
       "   index                       name publisher                   categories  \\\n",
       "0      1             Counter-Strike     Valve                Multi-player    \n",
       "1      2      Team Fortress Classic     Valve                Multi-player    \n",
       "2      3              Day of Defeat     Valve                Multi-player    \n",
       "3      4         Deathmatch Classic     Valve                Multi-player    \n",
       "4      5  Half-Life: Opposing Force     Valve  Single-player Multi-player    \n",
       "\n",
       "   genres                 steamspy_tags  \n",
       "0  Action        Action FPS Multiplayer  \n",
       "1  Action        Action FPS Multiplayer  \n",
       "2  Action  FPS World War II Multiplayer  \n",
       "3  Action        Action FPS Multiplayer  \n",
       "4  Action             FPS Action Sci-fi  "
      ]
     },
     "execution_count": 6,
     "metadata": {},
     "output_type": "execute_result"
    }
   ],
   "source": [
    "df.head()"
   ]
  },
  {
   "cell_type": "code",
   "execution_count": 7,
   "metadata": {},
   "outputs": [],
   "source": [
    "df[\"combined_features\"] = df.apply(combine_features,axis=1)"
   ]
  },
  {
   "cell_type": "code",
   "execution_count": 8,
   "metadata": {},
   "outputs": [
    {
     "data": {
      "text/html": [
       "<div>\n",
       "<style scoped>\n",
       "    .dataframe tbody tr th:only-of-type {\n",
       "        vertical-align: middle;\n",
       "    }\n",
       "\n",
       "    .dataframe tbody tr th {\n",
       "        vertical-align: top;\n",
       "    }\n",
       "\n",
       "    .dataframe thead th {\n",
       "        text-align: right;\n",
       "    }\n",
       "</style>\n",
       "<table border=\"1\" class=\"dataframe\">\n",
       "  <thead>\n",
       "    <tr style=\"text-align: right;\">\n",
       "      <th></th>\n",
       "      <th>index</th>\n",
       "      <th>name</th>\n",
       "      <th>publisher</th>\n",
       "      <th>categories</th>\n",
       "      <th>genres</th>\n",
       "      <th>steamspy_tags</th>\n",
       "      <th>combined_features</th>\n",
       "    </tr>\n",
       "  </thead>\n",
       "  <tbody>\n",
       "    <tr>\n",
       "      <th>0</th>\n",
       "      <td>1</td>\n",
       "      <td>Counter-Strike</td>\n",
       "      <td>Valve</td>\n",
       "      <td>Multi-player</td>\n",
       "      <td>Action</td>\n",
       "      <td>Action FPS Multiplayer</td>\n",
       "      <td>Valve Multi-player  Action</td>\n",
       "    </tr>\n",
       "    <tr>\n",
       "      <th>1</th>\n",
       "      <td>2</td>\n",
       "      <td>Team Fortress Classic</td>\n",
       "      <td>Valve</td>\n",
       "      <td>Multi-player</td>\n",
       "      <td>Action</td>\n",
       "      <td>Action FPS Multiplayer</td>\n",
       "      <td>Valve Multi-player  Action</td>\n",
       "    </tr>\n",
       "    <tr>\n",
       "      <th>2</th>\n",
       "      <td>3</td>\n",
       "      <td>Day of Defeat</td>\n",
       "      <td>Valve</td>\n",
       "      <td>Multi-player</td>\n",
       "      <td>Action</td>\n",
       "      <td>FPS World War II Multiplayer</td>\n",
       "      <td>Valve Multi-player  Action</td>\n",
       "    </tr>\n",
       "    <tr>\n",
       "      <th>3</th>\n",
       "      <td>4</td>\n",
       "      <td>Deathmatch Classic</td>\n",
       "      <td>Valve</td>\n",
       "      <td>Multi-player</td>\n",
       "      <td>Action</td>\n",
       "      <td>Action FPS Multiplayer</td>\n",
       "      <td>Valve Multi-player  Action</td>\n",
       "    </tr>\n",
       "    <tr>\n",
       "      <th>4</th>\n",
       "      <td>5</td>\n",
       "      <td>Half-Life: Opposing Force</td>\n",
       "      <td>Valve</td>\n",
       "      <td>Single-player Multi-player</td>\n",
       "      <td>Action</td>\n",
       "      <td>FPS Action Sci-fi</td>\n",
       "      <td>Valve Single-player Multi-player  Action</td>\n",
       "    </tr>\n",
       "  </tbody>\n",
       "</table>\n",
       "</div>"
      ],
      "text/plain": [
       "   index                       name publisher                   categories  \\\n",
       "0      1             Counter-Strike     Valve                Multi-player    \n",
       "1      2      Team Fortress Classic     Valve                Multi-player    \n",
       "2      3              Day of Defeat     Valve                Multi-player    \n",
       "3      4         Deathmatch Classic     Valve                Multi-player    \n",
       "4      5  Half-Life: Opposing Force     Valve  Single-player Multi-player    \n",
       "\n",
       "   genres                 steamspy_tags  \\\n",
       "0  Action        Action FPS Multiplayer   \n",
       "1  Action        Action FPS Multiplayer   \n",
       "2  Action  FPS World War II Multiplayer   \n",
       "3  Action        Action FPS Multiplayer   \n",
       "4  Action             FPS Action Sci-fi   \n",
       "\n",
       "                          combined_features  \n",
       "0                Valve Multi-player  Action  \n",
       "1                Valve Multi-player  Action  \n",
       "2                Valve Multi-player  Action  \n",
       "3                Valve Multi-player  Action  \n",
       "4  Valve Single-player Multi-player  Action  "
      ]
     },
     "execution_count": 8,
     "metadata": {},
     "output_type": "execute_result"
    }
   ],
   "source": [
    "df.head()"
   ]
  },
  {
   "cell_type": "code",
   "execution_count": 9,
   "metadata": {},
   "outputs": [
    {
     "data": {
      "text/html": [
       "<div>\n",
       "<style scoped>\n",
       "    .dataframe tbody tr th:only-of-type {\n",
       "        vertical-align: middle;\n",
       "    }\n",
       "\n",
       "    .dataframe tbody tr th {\n",
       "        vertical-align: top;\n",
       "    }\n",
       "\n",
       "    .dataframe thead th {\n",
       "        text-align: right;\n",
       "    }\n",
       "</style>\n",
       "<table border=\"1\" class=\"dataframe\">\n",
       "  <thead>\n",
       "    <tr style=\"text-align: right;\">\n",
       "      <th></th>\n",
       "      <th>index</th>\n",
       "      <th>name</th>\n",
       "      <th>publisher</th>\n",
       "      <th>categories</th>\n",
       "      <th>genres</th>\n",
       "      <th>steamspy_tags</th>\n",
       "      <th>combined_features</th>\n",
       "    </tr>\n",
       "  </thead>\n",
       "  <tbody>\n",
       "    <tr>\n",
       "      <th>0</th>\n",
       "      <td>1</td>\n",
       "      <td>Counter-Strike</td>\n",
       "      <td>Valve</td>\n",
       "      <td>Multi-player</td>\n",
       "      <td>Action</td>\n",
       "      <td>Action FPS Multiplayer</td>\n",
       "      <td>Valve Multi-player  Action</td>\n",
       "    </tr>\n",
       "    <tr>\n",
       "      <th>1</th>\n",
       "      <td>2</td>\n",
       "      <td>Team Fortress Classic</td>\n",
       "      <td>Valve</td>\n",
       "      <td>Multi-player</td>\n",
       "      <td>Action</td>\n",
       "      <td>Action FPS Multiplayer</td>\n",
       "      <td>Valve Multi-player  Action</td>\n",
       "    </tr>\n",
       "    <tr>\n",
       "      <th>2</th>\n",
       "      <td>3</td>\n",
       "      <td>Day of Defeat</td>\n",
       "      <td>Valve</td>\n",
       "      <td>Multi-player</td>\n",
       "      <td>Action</td>\n",
       "      <td>FPS World War II Multiplayer</td>\n",
       "      <td>Valve Multi-player  Action</td>\n",
       "    </tr>\n",
       "    <tr>\n",
       "      <th>3</th>\n",
       "      <td>4</td>\n",
       "      <td>Deathmatch Classic</td>\n",
       "      <td>Valve</td>\n",
       "      <td>Multi-player</td>\n",
       "      <td>Action</td>\n",
       "      <td>Action FPS Multiplayer</td>\n",
       "      <td>Valve Multi-player  Action</td>\n",
       "    </tr>\n",
       "    <tr>\n",
       "      <th>4</th>\n",
       "      <td>5</td>\n",
       "      <td>Half-Life: Opposing Force</td>\n",
       "      <td>Valve</td>\n",
       "      <td>Single-player Multi-player</td>\n",
       "      <td>Action</td>\n",
       "      <td>FPS Action Sci-fi</td>\n",
       "      <td>Valve Single-player Multi-player  Action</td>\n",
       "    </tr>\n",
       "  </tbody>\n",
       "</table>\n",
       "</div>"
      ],
      "text/plain": [
       "   index                       name publisher                   categories  \\\n",
       "0      1             Counter-Strike     Valve                Multi-player    \n",
       "1      2      Team Fortress Classic     Valve                Multi-player    \n",
       "2      3              Day of Defeat     Valve                Multi-player    \n",
       "3      4         Deathmatch Classic     Valve                Multi-player    \n",
       "4      5  Half-Life: Opposing Force     Valve  Single-player Multi-player    \n",
       "\n",
       "   genres                 steamspy_tags  \\\n",
       "0  Action        Action FPS Multiplayer   \n",
       "1  Action        Action FPS Multiplayer   \n",
       "2  Action  FPS World War II Multiplayer   \n",
       "3  Action        Action FPS Multiplayer   \n",
       "4  Action             FPS Action Sci-fi   \n",
       "\n",
       "                          combined_features  \n",
       "0                Valve Multi-player  Action  \n",
       "1                Valve Multi-player  Action  \n",
       "2                Valve Multi-player  Action  \n",
       "3                Valve Multi-player  Action  \n",
       "4  Valve Single-player Multi-player  Action  "
      ]
     },
     "execution_count": 9,
     "metadata": {},
     "output_type": "execute_result"
    }
   ],
   "source": [
    "df4 = df\n",
    "df4.head()"
   ]
  },
  {
   "cell_type": "code",
   "execution_count": 10,
   "metadata": {},
   "outputs": [
    {
     "data": {
      "text/plain": [
       "(27059, 13804)"
      ]
     },
     "execution_count": 10,
     "metadata": {},
     "output_type": "execute_result"
    }
   ],
   "source": [
    "tfidf = TfidfVectorizer(stop_words='english')\n",
    "count_matrix = tfidf.fit_transform(df[\"combined_features\"])\n",
    "count_matrix.shape"
   ]
  },
  {
   "cell_type": "code",
   "execution_count": 11,
   "metadata": {},
   "outputs": [
    {
     "data": {
      "text/plain": [
       "<27059x13804 sparse matrix of type '<class 'numpy.float64'>'\n",
       "\twith 193171 stored elements in Compressed Sparse Row format>"
      ]
     },
     "execution_count": 11,
     "metadata": {},
     "output_type": "execute_result"
    }
   ],
   "source": [
    "count_matrix"
   ]
  },
  {
   "cell_type": "code",
   "execution_count": 12,
   "metadata": {},
   "outputs": [],
   "source": [
    "cosine_sim = cosine_similarity(count_matrix)"
   ]
  },
  {
   "cell_type": "code",
   "execution_count": 13,
   "metadata": {},
   "outputs": [
    {
     "data": {
      "text/html": [
       "<div>\n",
       "<style scoped>\n",
       "    .dataframe tbody tr th:only-of-type {\n",
       "        vertical-align: middle;\n",
       "    }\n",
       "\n",
       "    .dataframe tbody tr th {\n",
       "        vertical-align: top;\n",
       "    }\n",
       "\n",
       "    .dataframe thead th {\n",
       "        text-align: right;\n",
       "    }\n",
       "</style>\n",
       "<table border=\"1\" class=\"dataframe\">\n",
       "  <thead>\n",
       "    <tr style=\"text-align: right;\">\n",
       "      <th></th>\n",
       "      <th>user_id</th>\n",
       "      <th>game</th>\n",
       "      <th>behavior</th>\n",
       "      <th>play_time</th>\n",
       "    </tr>\n",
       "  </thead>\n",
       "  <tbody>\n",
       "    <tr>\n",
       "      <th>0</th>\n",
       "      <td>151603712</td>\n",
       "      <td>The Elder Scrolls V Skyrim</td>\n",
       "      <td>purchase</td>\n",
       "      <td>1.0</td>\n",
       "    </tr>\n",
       "    <tr>\n",
       "      <th>1</th>\n",
       "      <td>151603712</td>\n",
       "      <td>The Elder Scrolls V Skyrim</td>\n",
       "      <td>play</td>\n",
       "      <td>273.0</td>\n",
       "    </tr>\n",
       "    <tr>\n",
       "      <th>2</th>\n",
       "      <td>151603712</td>\n",
       "      <td>Fallout 4</td>\n",
       "      <td>purchase</td>\n",
       "      <td>1.0</td>\n",
       "    </tr>\n",
       "    <tr>\n",
       "      <th>3</th>\n",
       "      <td>151603712</td>\n",
       "      <td>Fallout 4</td>\n",
       "      <td>play</td>\n",
       "      <td>87.0</td>\n",
       "    </tr>\n",
       "    <tr>\n",
       "      <th>4</th>\n",
       "      <td>151603712</td>\n",
       "      <td>Spore</td>\n",
       "      <td>purchase</td>\n",
       "      <td>1.0</td>\n",
       "    </tr>\n",
       "  </tbody>\n",
       "</table>\n",
       "</div>"
      ],
      "text/plain": [
       "     user_id                        game  behavior  play_time\n",
       "0  151603712  The Elder Scrolls V Skyrim  purchase        1.0\n",
       "1  151603712  The Elder Scrolls V Skyrim      play      273.0\n",
       "2  151603712                   Fallout 4  purchase        1.0\n",
       "3  151603712                   Fallout 4      play       87.0\n",
       "4  151603712                       Spore  purchase        1.0"
      ]
     },
     "execution_count": 13,
     "metadata": {},
     "output_type": "execute_result"
    }
   ],
   "source": [
    "user_tags = ['user_id', 'game', 'behavior', 'play_time', '0']\n",
    "df2 = pd.read_csv(\"steam_user.csv\", names=user_tags)\n",
    "df2 = df2.drop(['0'],axis=1)\n",
    "df2.head()"
   ]
  },
  {
   "cell_type": "code",
   "execution_count": 14,
   "metadata": {},
   "outputs": [
    {
     "name": "stdin",
     "output_type": "stream",
     "text": [
      "Enter your user id 151603712\n"
     ]
    }
   ],
   "source": [
    " user_id_ip = int(input(\"Enter your user id\"))"
   ]
  },
  {
   "cell_type": "code",
   "execution_count": 15,
   "metadata": {},
   "outputs": [
    {
     "data": {
      "text/html": [
       "<div>\n",
       "<style scoped>\n",
       "    .dataframe tbody tr th:only-of-type {\n",
       "        vertical-align: middle;\n",
       "    }\n",
       "\n",
       "    .dataframe tbody tr th {\n",
       "        vertical-align: top;\n",
       "    }\n",
       "\n",
       "    .dataframe thead th {\n",
       "        text-align: right;\n",
       "    }\n",
       "</style>\n",
       "<table border=\"1\" class=\"dataframe\">\n",
       "  <thead>\n",
       "    <tr style=\"text-align: right;\">\n",
       "      <th></th>\n",
       "      <th>user_id</th>\n",
       "      <th>game</th>\n",
       "      <th>behavior</th>\n",
       "      <th>play_time</th>\n",
       "    </tr>\n",
       "  </thead>\n",
       "  <tbody>\n",
       "    <tr>\n",
       "      <th>1</th>\n",
       "      <td>151603712</td>\n",
       "      <td>The Elder Scrolls V Skyrim</td>\n",
       "      <td>play</td>\n",
       "      <td>273.0</td>\n",
       "    </tr>\n",
       "    <tr>\n",
       "      <th>3</th>\n",
       "      <td>151603712</td>\n",
       "      <td>Fallout 4</td>\n",
       "      <td>play</td>\n",
       "      <td>87.0</td>\n",
       "    </tr>\n",
       "    <tr>\n",
       "      <th>5</th>\n",
       "      <td>151603712</td>\n",
       "      <td>Spore</td>\n",
       "      <td>play</td>\n",
       "      <td>14.9</td>\n",
       "    </tr>\n",
       "    <tr>\n",
       "      <th>7</th>\n",
       "      <td>151603712</td>\n",
       "      <td>Fallout New Vegas</td>\n",
       "      <td>play</td>\n",
       "      <td>12.1</td>\n",
       "    </tr>\n",
       "  </tbody>\n",
       "</table>\n",
       "</div>"
      ],
      "text/plain": [
       "     user_id                        game behavior  play_time\n",
       "1  151603712  The Elder Scrolls V Skyrim     play      273.0\n",
       "3  151603712                   Fallout 4     play       87.0\n",
       "5  151603712                       Spore     play       14.9\n",
       "7  151603712           Fallout New Vegas     play       12.1"
      ]
     },
     "execution_count": 15,
     "metadata": {},
     "output_type": "execute_result"
    }
   ],
   "source": [
    "user_data_ipr = df2[(df2.user_id == user_id_ip) & (df2.behavior == 'play') & (df2.play_time >= 10)]\n",
    "user_data_ipr.head()"
   ]
  },
  {
   "cell_type": "code",
   "execution_count": 16,
   "metadata": {},
   "outputs": [
    {
     "data": {
      "text/html": [
       "<div>\n",
       "<style scoped>\n",
       "    .dataframe tbody tr th:only-of-type {\n",
       "        vertical-align: middle;\n",
       "    }\n",
       "\n",
       "    .dataframe tbody tr th {\n",
       "        vertical-align: top;\n",
       "    }\n",
       "\n",
       "    .dataframe thead th {\n",
       "        text-align: right;\n",
       "    }\n",
       "</style>\n",
       "<table border=\"1\" class=\"dataframe\">\n",
       "  <thead>\n",
       "    <tr style=\"text-align: right;\">\n",
       "      <th></th>\n",
       "      <th>index</th>\n",
       "      <th>name</th>\n",
       "      <th>publisher</th>\n",
       "      <th>categories</th>\n",
       "      <th>genres</th>\n",
       "      <th>steamspy_tags</th>\n",
       "      <th>combined_features</th>\n",
       "      <th>user_id</th>\n",
       "      <th>game</th>\n",
       "      <th>behavior</th>\n",
       "      <th>play_time</th>\n",
       "    </tr>\n",
       "  </thead>\n",
       "  <tbody>\n",
       "    <tr>\n",
       "      <th>0</th>\n",
       "      <td>5917</td>\n",
       "      <td>Fallout 4</td>\n",
       "      <td>Bethesda Softworks</td>\n",
       "      <td>Single-player</td>\n",
       "      <td>RPG</td>\n",
       "      <td>Open World Post-apocalyptic Exploration</td>\n",
       "      <td>Bethesda Softworks Single-player  RPG</td>\n",
       "      <td>151603712</td>\n",
       "      <td>Fallout 4</td>\n",
       "      <td>play</td>\n",
       "      <td>87.0</td>\n",
       "    </tr>\n",
       "  </tbody>\n",
       "</table>\n",
       "</div>"
      ],
      "text/plain": [
       "   index       name           publisher      categories genres  \\\n",
       "0   5917  Fallout 4  Bethesda Softworks  Single-player     RPG   \n",
       "\n",
       "                             steamspy_tags  \\\n",
       "0  Open World Post-apocalyptic Exploration   \n",
       "\n",
       "                       combined_features    user_id       game behavior  \\\n",
       "0  Bethesda Softworks Single-player  RPG  151603712  Fallout 4     play   \n",
       "\n",
       "   play_time  \n",
       "0       87.0  "
      ]
     },
     "execution_count": 16,
     "metadata": {},
     "output_type": "execute_result"
    }
   ],
   "source": [
    "df3 = pd.merge(df, user_data_ipr, left_on=\"name\", right_on=\"game\")\n",
    "df3.head()"
   ]
  },
  {
   "cell_type": "code",
   "execution_count": 17,
   "metadata": {},
   "outputs": [
    {
     "name": "stdout",
     "output_type": "stream",
     "text": [
      "object\n"
     ]
    }
   ],
   "source": [
    "print(df4['categories'].dtypes)"
   ]
  },
  {
   "cell_type": "code",
   "execution_count": 18,
   "metadata": {},
   "outputs": [],
   "source": [
    "temp = df4[\"categories\"].copy()\n",
    "df4[\"publisher\"]= df4[\"publisher\"].str.cat(temp, sep =\" \")"
   ]
  },
  {
   "cell_type": "code",
   "execution_count": 19,
   "metadata": {},
   "outputs": [
    {
     "data": {
      "text/html": [
       "<div>\n",
       "<style scoped>\n",
       "    .dataframe tbody tr th:only-of-type {\n",
       "        vertical-align: middle;\n",
       "    }\n",
       "\n",
       "    .dataframe tbody tr th {\n",
       "        vertical-align: top;\n",
       "    }\n",
       "\n",
       "    .dataframe thead th {\n",
       "        text-align: right;\n",
       "    }\n",
       "</style>\n",
       "<table border=\"1\" class=\"dataframe\">\n",
       "  <thead>\n",
       "    <tr style=\"text-align: right;\">\n",
       "      <th></th>\n",
       "      <th>index</th>\n",
       "      <th>name</th>\n",
       "      <th>publisher</th>\n",
       "      <th>categories</th>\n",
       "      <th>genres</th>\n",
       "      <th>steamspy_tags</th>\n",
       "      <th>combined_features</th>\n",
       "    </tr>\n",
       "  </thead>\n",
       "  <tbody>\n",
       "    <tr>\n",
       "      <th>0</th>\n",
       "      <td>1</td>\n",
       "      <td>Counter-Strike</td>\n",
       "      <td>Valve Multi-player</td>\n",
       "      <td>Multi-player</td>\n",
       "      <td>Action</td>\n",
       "      <td>Action FPS Multiplayer</td>\n",
       "      <td>Valve Multi-player  Action</td>\n",
       "    </tr>\n",
       "    <tr>\n",
       "      <th>1</th>\n",
       "      <td>2</td>\n",
       "      <td>Team Fortress Classic</td>\n",
       "      <td>Valve Multi-player</td>\n",
       "      <td>Multi-player</td>\n",
       "      <td>Action</td>\n",
       "      <td>Action FPS Multiplayer</td>\n",
       "      <td>Valve Multi-player  Action</td>\n",
       "    </tr>\n",
       "    <tr>\n",
       "      <th>2</th>\n",
       "      <td>3</td>\n",
       "      <td>Day of Defeat</td>\n",
       "      <td>Valve Multi-player</td>\n",
       "      <td>Multi-player</td>\n",
       "      <td>Action</td>\n",
       "      <td>FPS World War II Multiplayer</td>\n",
       "      <td>Valve Multi-player  Action</td>\n",
       "    </tr>\n",
       "    <tr>\n",
       "      <th>3</th>\n",
       "      <td>4</td>\n",
       "      <td>Deathmatch Classic</td>\n",
       "      <td>Valve Multi-player</td>\n",
       "      <td>Multi-player</td>\n",
       "      <td>Action</td>\n",
       "      <td>Action FPS Multiplayer</td>\n",
       "      <td>Valve Multi-player  Action</td>\n",
       "    </tr>\n",
       "    <tr>\n",
       "      <th>4</th>\n",
       "      <td>5</td>\n",
       "      <td>Half-Life: Opposing Force</td>\n",
       "      <td>Valve Single-player Multi-player</td>\n",
       "      <td>Single-player Multi-player</td>\n",
       "      <td>Action</td>\n",
       "      <td>FPS Action Sci-fi</td>\n",
       "      <td>Valve Single-player Multi-player  Action</td>\n",
       "    </tr>\n",
       "  </tbody>\n",
       "</table>\n",
       "</div>"
      ],
      "text/plain": [
       "   index                       name                          publisher  \\\n",
       "0      1             Counter-Strike                Valve Multi-player    \n",
       "1      2      Team Fortress Classic                Valve Multi-player    \n",
       "2      3              Day of Defeat                Valve Multi-player    \n",
       "3      4         Deathmatch Classic                Valve Multi-player    \n",
       "4      5  Half-Life: Opposing Force  Valve Single-player Multi-player    \n",
       "\n",
       "                    categories  genres                 steamspy_tags  \\\n",
       "0                Multi-player   Action        Action FPS Multiplayer   \n",
       "1                Multi-player   Action        Action FPS Multiplayer   \n",
       "2                Multi-player   Action  FPS World War II Multiplayer   \n",
       "3                Multi-player   Action        Action FPS Multiplayer   \n",
       "4  Single-player Multi-player   Action             FPS Action Sci-fi   \n",
       "\n",
       "                          combined_features  \n",
       "0                Valve Multi-player  Action  \n",
       "1                Valve Multi-player  Action  \n",
       "2                Valve Multi-player  Action  \n",
       "3                Valve Multi-player  Action  \n",
       "4  Valve Single-player Multi-player  Action  "
      ]
     },
     "execution_count": 19,
     "metadata": {},
     "output_type": "execute_result"
    }
   ],
   "source": [
    "df4.head()"
   ]
  },
  {
   "cell_type": "code",
   "execution_count": 20,
   "metadata": {},
   "outputs": [
    {
     "data": {
      "text/html": [
       "<div>\n",
       "<style scoped>\n",
       "    .dataframe tbody tr th:only-of-type {\n",
       "        vertical-align: middle;\n",
       "    }\n",
       "\n",
       "    .dataframe tbody tr th {\n",
       "        vertical-align: top;\n",
       "    }\n",
       "\n",
       "    .dataframe thead th {\n",
       "        text-align: right;\n",
       "    }\n",
       "</style>\n",
       "<table border=\"1\" class=\"dataframe\">\n",
       "  <thead>\n",
       "    <tr style=\"text-align: right;\">\n",
       "      <th></th>\n",
       "      <th>index</th>\n",
       "      <th>name</th>\n",
       "      <th>publisher</th>\n",
       "      <th>categories</th>\n",
       "      <th>genres</th>\n",
       "      <th>steamspy_tags</th>\n",
       "      <th>combined_features</th>\n",
       "    </tr>\n",
       "  </thead>\n",
       "  <tbody>\n",
       "    <tr>\n",
       "      <th>0</th>\n",
       "      <td>1</td>\n",
       "      <td>Counter-Strike</td>\n",
       "      <td>Valve Multi-player  Action</td>\n",
       "      <td>Multi-player</td>\n",
       "      <td>Action</td>\n",
       "      <td>Action FPS Multiplayer</td>\n",
       "      <td>Valve Multi-player  Action</td>\n",
       "    </tr>\n",
       "    <tr>\n",
       "      <th>1</th>\n",
       "      <td>2</td>\n",
       "      <td>Team Fortress Classic</td>\n",
       "      <td>Valve Multi-player  Action</td>\n",
       "      <td>Multi-player</td>\n",
       "      <td>Action</td>\n",
       "      <td>Action FPS Multiplayer</td>\n",
       "      <td>Valve Multi-player  Action</td>\n",
       "    </tr>\n",
       "    <tr>\n",
       "      <th>2</th>\n",
       "      <td>3</td>\n",
       "      <td>Day of Defeat</td>\n",
       "      <td>Valve Multi-player  Action</td>\n",
       "      <td>Multi-player</td>\n",
       "      <td>Action</td>\n",
       "      <td>FPS World War II Multiplayer</td>\n",
       "      <td>Valve Multi-player  Action</td>\n",
       "    </tr>\n",
       "    <tr>\n",
       "      <th>3</th>\n",
       "      <td>4</td>\n",
       "      <td>Deathmatch Classic</td>\n",
       "      <td>Valve Multi-player  Action</td>\n",
       "      <td>Multi-player</td>\n",
       "      <td>Action</td>\n",
       "      <td>Action FPS Multiplayer</td>\n",
       "      <td>Valve Multi-player  Action</td>\n",
       "    </tr>\n",
       "    <tr>\n",
       "      <th>4</th>\n",
       "      <td>5</td>\n",
       "      <td>Half-Life: Opposing Force</td>\n",
       "      <td>Valve Single-player Multi-player  Action</td>\n",
       "      <td>Single-player Multi-player</td>\n",
       "      <td>Action</td>\n",
       "      <td>FPS Action Sci-fi</td>\n",
       "      <td>Valve Single-player Multi-player  Action</td>\n",
       "    </tr>\n",
       "  </tbody>\n",
       "</table>\n",
       "</div>"
      ],
      "text/plain": [
       "   index                       name                                 publisher  \\\n",
       "0      1             Counter-Strike                Valve Multi-player  Action   \n",
       "1      2      Team Fortress Classic                Valve Multi-player  Action   \n",
       "2      3              Day of Defeat                Valve Multi-player  Action   \n",
       "3      4         Deathmatch Classic                Valve Multi-player  Action   \n",
       "4      5  Half-Life: Opposing Force  Valve Single-player Multi-player  Action   \n",
       "\n",
       "                    categories  genres                 steamspy_tags  \\\n",
       "0                Multi-player   Action        Action FPS Multiplayer   \n",
       "1                Multi-player   Action        Action FPS Multiplayer   \n",
       "2                Multi-player   Action  FPS World War II Multiplayer   \n",
       "3                Multi-player   Action        Action FPS Multiplayer   \n",
       "4  Single-player Multi-player   Action             FPS Action Sci-fi   \n",
       "\n",
       "                          combined_features  \n",
       "0                Valve Multi-player  Action  \n",
       "1                Valve Multi-player  Action  \n",
       "2                Valve Multi-player  Action  \n",
       "3                Valve Multi-player  Action  \n",
       "4  Valve Single-player Multi-player  Action  "
      ]
     },
     "execution_count": 20,
     "metadata": {},
     "output_type": "execute_result"
    }
   ],
   "source": [
    "temp2 = df4[\"genres\"].copy()\n",
    "df4[\"publisher\"]= df4[\"publisher\"].str.cat(temp2, sep =\" \")\n",
    "df4.head()"
   ]
  },
  {
   "cell_type": "code",
   "execution_count": 21,
   "metadata": {},
   "outputs": [
    {
     "data": {
      "text/html": [
       "<div>\n",
       "<style scoped>\n",
       "    .dataframe tbody tr th:only-of-type {\n",
       "        vertical-align: middle;\n",
       "    }\n",
       "\n",
       "    .dataframe tbody tr th {\n",
       "        vertical-align: top;\n",
       "    }\n",
       "\n",
       "    .dataframe thead th {\n",
       "        text-align: right;\n",
       "    }\n",
       "</style>\n",
       "<table border=\"1\" class=\"dataframe\">\n",
       "  <thead>\n",
       "    <tr style=\"text-align: right;\">\n",
       "      <th></th>\n",
       "      <th>index</th>\n",
       "      <th>name</th>\n",
       "      <th>publisher</th>\n",
       "      <th>steamspy_tags</th>\n",
       "      <th>combined_features</th>\n",
       "    </tr>\n",
       "  </thead>\n",
       "  <tbody>\n",
       "    <tr>\n",
       "      <th>0</th>\n",
       "      <td>1</td>\n",
       "      <td>Counter-Strike</td>\n",
       "      <td>Valve Multi-player  Action</td>\n",
       "      <td>Action FPS Multiplayer</td>\n",
       "      <td>Valve Multi-player  Action</td>\n",
       "    </tr>\n",
       "    <tr>\n",
       "      <th>1</th>\n",
       "      <td>2</td>\n",
       "      <td>Team Fortress Classic</td>\n",
       "      <td>Valve Multi-player  Action</td>\n",
       "      <td>Action FPS Multiplayer</td>\n",
       "      <td>Valve Multi-player  Action</td>\n",
       "    </tr>\n",
       "    <tr>\n",
       "      <th>2</th>\n",
       "      <td>3</td>\n",
       "      <td>Day of Defeat</td>\n",
       "      <td>Valve Multi-player  Action</td>\n",
       "      <td>FPS World War II Multiplayer</td>\n",
       "      <td>Valve Multi-player  Action</td>\n",
       "    </tr>\n",
       "    <tr>\n",
       "      <th>3</th>\n",
       "      <td>4</td>\n",
       "      <td>Deathmatch Classic</td>\n",
       "      <td>Valve Multi-player  Action</td>\n",
       "      <td>Action FPS Multiplayer</td>\n",
       "      <td>Valve Multi-player  Action</td>\n",
       "    </tr>\n",
       "    <tr>\n",
       "      <th>4</th>\n",
       "      <td>5</td>\n",
       "      <td>Half-Life: Opposing Force</td>\n",
       "      <td>Valve Single-player Multi-player  Action</td>\n",
       "      <td>FPS Action Sci-fi</td>\n",
       "      <td>Valve Single-player Multi-player  Action</td>\n",
       "    </tr>\n",
       "  </tbody>\n",
       "</table>\n",
       "</div>"
      ],
      "text/plain": [
       "   index                       name                                 publisher  \\\n",
       "0      1             Counter-Strike                Valve Multi-player  Action   \n",
       "1      2      Team Fortress Classic                Valve Multi-player  Action   \n",
       "2      3              Day of Defeat                Valve Multi-player  Action   \n",
       "3      4         Deathmatch Classic                Valve Multi-player  Action   \n",
       "4      5  Half-Life: Opposing Force  Valve Single-player Multi-player  Action   \n",
       "\n",
       "                  steamspy_tags                         combined_features  \n",
       "0        Action FPS Multiplayer                Valve Multi-player  Action  \n",
       "1        Action FPS Multiplayer                Valve Multi-player  Action  \n",
       "2  FPS World War II Multiplayer                Valve Multi-player  Action  \n",
       "3        Action FPS Multiplayer                Valve Multi-player  Action  \n",
       "4             FPS Action Sci-fi  Valve Single-player Multi-player  Action  "
      ]
     },
     "execution_count": 21,
     "metadata": {},
     "output_type": "execute_result"
    }
   ],
   "source": [
    "df4 = df4.drop([\"categories\", \"genres\"], axis=1)\n",
    "df4.head()"
   ]
  },
  {
   "cell_type": "code",
   "execution_count": 22,
   "metadata": {},
   "outputs": [
    {
     "data": {
      "text/html": [
       "<div>\n",
       "<style scoped>\n",
       "    .dataframe tbody tr th:only-of-type {\n",
       "        vertical-align: middle;\n",
       "    }\n",
       "\n",
       "    .dataframe tbody tr th {\n",
       "        vertical-align: top;\n",
       "    }\n",
       "\n",
       "    .dataframe thead th {\n",
       "        text-align: right;\n",
       "    }\n",
       "</style>\n",
       "<table border=\"1\" class=\"dataframe\">\n",
       "  <thead>\n",
       "    <tr style=\"text-align: right;\">\n",
       "      <th></th>\n",
       "      <th>index</th>\n",
       "      <th>name</th>\n",
       "      <th>tags</th>\n",
       "      <th>steamspy_tags</th>\n",
       "      <th>combined_features</th>\n",
       "    </tr>\n",
       "  </thead>\n",
       "  <tbody>\n",
       "    <tr>\n",
       "      <th>0</th>\n",
       "      <td>1</td>\n",
       "      <td>Counter-Strike</td>\n",
       "      <td>Valve Multi-player  Action</td>\n",
       "      <td>Action FPS Multiplayer</td>\n",
       "      <td>Valve Multi-player  Action</td>\n",
       "    </tr>\n",
       "    <tr>\n",
       "      <th>1</th>\n",
       "      <td>2</td>\n",
       "      <td>Team Fortress Classic</td>\n",
       "      <td>Valve Multi-player  Action</td>\n",
       "      <td>Action FPS Multiplayer</td>\n",
       "      <td>Valve Multi-player  Action</td>\n",
       "    </tr>\n",
       "    <tr>\n",
       "      <th>2</th>\n",
       "      <td>3</td>\n",
       "      <td>Day of Defeat</td>\n",
       "      <td>Valve Multi-player  Action</td>\n",
       "      <td>FPS World War II Multiplayer</td>\n",
       "      <td>Valve Multi-player  Action</td>\n",
       "    </tr>\n",
       "    <tr>\n",
       "      <th>3</th>\n",
       "      <td>4</td>\n",
       "      <td>Deathmatch Classic</td>\n",
       "      <td>Valve Multi-player  Action</td>\n",
       "      <td>Action FPS Multiplayer</td>\n",
       "      <td>Valve Multi-player  Action</td>\n",
       "    </tr>\n",
       "    <tr>\n",
       "      <th>4</th>\n",
       "      <td>5</td>\n",
       "      <td>Half-Life: Opposing Force</td>\n",
       "      <td>Valve Single-player Multi-player  Action</td>\n",
       "      <td>FPS Action Sci-fi</td>\n",
       "      <td>Valve Single-player Multi-player  Action</td>\n",
       "    </tr>\n",
       "  </tbody>\n",
       "</table>\n",
       "</div>"
      ],
      "text/plain": [
       "   index                       name                                      tags  \\\n",
       "0      1             Counter-Strike                Valve Multi-player  Action   \n",
       "1      2      Team Fortress Classic                Valve Multi-player  Action   \n",
       "2      3              Day of Defeat                Valve Multi-player  Action   \n",
       "3      4         Deathmatch Classic                Valve Multi-player  Action   \n",
       "4      5  Half-Life: Opposing Force  Valve Single-player Multi-player  Action   \n",
       "\n",
       "                  steamspy_tags                         combined_features  \n",
       "0        Action FPS Multiplayer                Valve Multi-player  Action  \n",
       "1        Action FPS Multiplayer                Valve Multi-player  Action  \n",
       "2  FPS World War II Multiplayer                Valve Multi-player  Action  \n",
       "3        Action FPS Multiplayer                Valve Multi-player  Action  \n",
       "4             FPS Action Sci-fi  Valve Single-player Multi-player  Action  "
      ]
     },
     "execution_count": 22,
     "metadata": {},
     "output_type": "execute_result"
    }
   ],
   "source": [
    "df4 = df4.rename(columns = {\"publisher\":\"tags\"}, inplace = False)\n",
    "df4.head()"
   ]
  },
  {
   "cell_type": "code",
   "execution_count": 23,
   "metadata": {},
   "outputs": [],
   "source": [
    "df3[\"combined_features1\"] = df3.apply(combine_features,axis=1)"
   ]
  },
  {
   "cell_type": "code",
   "execution_count": 24,
   "metadata": {},
   "outputs": [
    {
     "data": {
      "text/html": [
       "<div>\n",
       "<style scoped>\n",
       "    .dataframe tbody tr th:only-of-type {\n",
       "        vertical-align: middle;\n",
       "    }\n",
       "\n",
       "    .dataframe tbody tr th {\n",
       "        vertical-align: top;\n",
       "    }\n",
       "\n",
       "    .dataframe thead th {\n",
       "        text-align: right;\n",
       "    }\n",
       "</style>\n",
       "<table border=\"1\" class=\"dataframe\">\n",
       "  <thead>\n",
       "    <tr style=\"text-align: right;\">\n",
       "      <th></th>\n",
       "      <th>index</th>\n",
       "      <th>name</th>\n",
       "      <th>publisher</th>\n",
       "      <th>categories</th>\n",
       "      <th>genres</th>\n",
       "      <th>steamspy_tags</th>\n",
       "      <th>combined_features</th>\n",
       "      <th>user_id</th>\n",
       "      <th>game</th>\n",
       "      <th>behavior</th>\n",
       "      <th>play_time</th>\n",
       "      <th>combined_features1</th>\n",
       "    </tr>\n",
       "  </thead>\n",
       "  <tbody>\n",
       "    <tr>\n",
       "      <th>0</th>\n",
       "      <td>5917</td>\n",
       "      <td>Fallout 4</td>\n",
       "      <td>Bethesda Softworks</td>\n",
       "      <td>Single-player</td>\n",
       "      <td>RPG</td>\n",
       "      <td>Open World Post-apocalyptic Exploration</td>\n",
       "      <td>Bethesda Softworks Single-player  RPG</td>\n",
       "      <td>151603712</td>\n",
       "      <td>Fallout 4</td>\n",
       "      <td>play</td>\n",
       "      <td>87.0</td>\n",
       "      <td>Bethesda Softworks Single-player  RPG</td>\n",
       "    </tr>\n",
       "  </tbody>\n",
       "</table>\n",
       "</div>"
      ],
      "text/plain": [
       "   index       name           publisher      categories genres  \\\n",
       "0   5917  Fallout 4  Bethesda Softworks  Single-player     RPG   \n",
       "\n",
       "                             steamspy_tags  \\\n",
       "0  Open World Post-apocalyptic Exploration   \n",
       "\n",
       "                       combined_features    user_id       game behavior  \\\n",
       "0  Bethesda Softworks Single-player  RPG  151603712  Fallout 4     play   \n",
       "\n",
       "   play_time                     combined_features1  \n",
       "0       87.0  Bethesda Softworks Single-player  RPG  "
      ]
     },
     "execution_count": 24,
     "metadata": {},
     "output_type": "execute_result"
    }
   ],
   "source": [
    "df3.sort_values(\"play_time\", axis = 0, ascending = False,\n",
    "                 inplace = True, na_position ='first')\n",
    "df3.head()"
   ]
  },
  {
   "cell_type": "code",
   "execution_count": 25,
   "metadata": {},
   "outputs": [
    {
     "data": {
      "text/plain": [
       "(1, 5)"
      ]
     },
     "execution_count": 25,
     "metadata": {},
     "output_type": "execute_result"
    }
   ],
   "source": [
    "count_matrix1 = tfidf.fit_transform(df3[\"combined_features1\"])\n",
    "count_matrix1.shape"
   ]
  },
  {
   "cell_type": "code",
   "execution_count": 26,
   "metadata": {},
   "outputs": [],
   "source": [
    "def get_combinef_from_name(name):\n",
    "    return df[df.name == name][\"combined_features\"].values[0]"
   ]
  },
  {
   "cell_type": "code",
   "execution_count": 27,
   "metadata": {},
   "outputs": [],
   "source": [
    "def get_game_from_user(user_id):\n",
    "    return df3[df3.user_id == user_id][[\"index\",\"game\",\"combined_features1\"]].values[0]"
   ]
  },
  {
   "cell_type": "code",
   "execution_count": 28,
   "metadata": {},
   "outputs": [],
   "source": [
    "game_index = get_game_from_user(user_id_ip)"
   ]
  },
  {
   "cell_type": "code",
   "execution_count": 29,
   "metadata": {},
   "outputs": [
    {
     "name": "stdout",
     "output_type": "stream",
     "text": [
      "[5917 'Fallout 4' 'Bethesda Softworks Single-player  RPG']\n"
     ]
    }
   ],
   "source": [
    "print(game_index)"
   ]
  },
  {
   "cell_type": "code",
   "execution_count": 30,
   "metadata": {},
   "outputs": [],
   "source": [
    "def get_index_from_user_id(user_id):\n",
    "    return df3[df3.user_id == user_id][\"index\"].values[0]\n"
   ]
  },
  {
   "cell_type": "code",
   "execution_count": 31,
   "metadata": {},
   "outputs": [
    {
     "name": "stdout",
     "output_type": "stream",
     "text": [
      "5917\n"
     ]
    }
   ],
   "source": [
    "g_index = get_index_from_user_id(user_id_ip)\n",
    "print(g_index)\n"
   ]
  },
  {
   "cell_type": "code",
   "execution_count": 32,
   "metadata": {},
   "outputs": [],
   "source": [
    "sim_games =  list(enumerate(cosine_sim[g_index]))"
   ]
  },
  {
   "cell_type": "code",
   "execution_count": 33,
   "metadata": {},
   "outputs": [],
   "source": [
    "sorted_sim_games = sorted(sim_games,key=lambda x:x[1],reverse=True)"
   ]
  },
  {
   "cell_type": "code",
   "execution_count": 34,
   "metadata": {},
   "outputs": [
    {
     "name": "stdout",
     "output_type": "stream",
     "text": [
      "Edolie\n",
      "Echoes of Aetheria\n",
      "Pale Echoes\n",
      "ã«ããã£ãã¯ãã¼ã³ åéã¸ãéæ¨\n",
      "ã«ããã£ãã¯ãã¼ã³ ã¬ã¸ã§ã³ãããã¯\n",
      "Heroes of Legionwood\n",
      "Aveyond 3-3: The Lost Orb\n",
      "Remnants Of Isolation\n",
      "3 Stars of Destiny\n",
      "Sweet Lily Dreams\n",
      "Whisper of a Rose\n",
      "The Princess' Heart\n",
      "Aveyond 4: Shadow of the Mist\n",
      "Skyborn\n",
      "Deadly Sin 2\n",
      "Legionwood 2: Rise of the Eternal's Realm - Director's Cut\n"
     ]
    }
   ],
   "source": [
    "def get_title_from_index(index):\n",
    "    return df[df.index == index][\"name\"].values[0]\n",
    "i=0\n",
    "for game in sorted_sim_games:\n",
    "    print(get_title_from_index(game[0]))\n",
    "    i=i+1\n",
    "    if i>15:\n",
    "        break"
   ]
  },
  {
   "cell_type": "code",
   "execution_count": null,
   "metadata": {},
   "outputs": [],
   "source": []
  }
 ],
 "metadata": {
  "kernelspec": {
   "display_name": "Python 3",
   "language": "python",
   "name": "python3"
  },
  "language_info": {
   "codemirror_mode": {
    "name": "ipython",
    "version": 3
   },
   "file_extension": ".py",
   "mimetype": "text/x-python",
   "name": "python",
   "nbconvert_exporter": "python",
   "pygments_lexer": "ipython3",
   "version": "3.8.5"
  }
 },
 "nbformat": 4,
 "nbformat_minor": 4
}
